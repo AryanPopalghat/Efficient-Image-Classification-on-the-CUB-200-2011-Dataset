{
 "cells": [
  {
   "cell_type": "code",
   "execution_count": 1,
   "id": "ae4c8498-4751-4922-8182-3a43e019c9a5",
   "metadata": {},
   "outputs": [],
   "source": [
    "import sys\n",
    "sys.path.append('E:/PythonPackages')\n",
    "import os\n",
    "import torch\n",
    "import torchvision\n",
    "from torchvision import models, transforms, datasets\n",
    "from torchvision.datasets import ImageFolder\n",
    "from torch.utils.data import DataLoader\n",
    "import torch.nn as nn\n",
    "import torch.optim as optim\n",
    "import torch.nn.functional as F\n"
   ]
  },
  {
   "cell_type": "code",
   "execution_count": 2,
   "id": "c92fe594-8d2b-4b4f-a64e-30d79910cc3c",
   "metadata": {},
   "outputs": [],
   "source": [
    "device =\"cuda\" if torch.cuda.is_available() else \"cpu\""
   ]
  },
  {
   "cell_type": "code",
   "execution_count": 3,
   "id": "f54e901b-3ccf-46e9-b21e-839e4edf6e68",
   "metadata": {},
   "outputs": [],
   "source": [
    "log_file = open('log_file.txt', 'w')"
   ]
  },
  {
   "cell_type": "code",
   "execution_count": 4,
   "id": "2c0f30e1-08aa-4d28-ad44-688dbf51055c",
   "metadata": {},
   "outputs": [],
   "source": [
    "# sys.stdout = log_file"
   ]
  },
  {
   "cell_type": "code",
   "execution_count": 5,
   "id": "545ae641-8d31-46b0-a287-39673ccf41fd",
   "metadata": {},
   "outputs": [],
   "source": [
    "data_dir = 'C:/mini-project-gnr/CUB_200_2011/images/'\n",
    "\n",
    "transform = transforms.Compose([\n",
    "    transforms.Resize((224, 224)), \n",
    "    transforms.ToTensor(),\n",
    "    transforms.Normalize(mean=[0.485, 0.456, 0.406], std=[0.229, 0.224, 0.225]),\n",
    "])\n",
    "\n",
    "dataset = torchvision.datasets.ImageFolder(root=data_dir, transform=transform)\n",
    "\n",
    "# Split dataset into train and test\n",
    "train_size = int(0.6 * len(dataset))\n",
    "test_size = len(dataset) - train_size\n",
    "train_dataset, test_dataset = torch.utils.data.random_split(dataset, [train_size, test_size])\n",
    "\n",
    "train_loader = DataLoader(train_dataset, batch_size=32, shuffle=True, num_workers=4)\n",
    "test_loader = DataLoader(test_dataset, batch_size=32, shuffle=False, num_workers=4)\n"
   ]
  },
  {
   "cell_type": "code",
   "execution_count": 6,
   "id": "0340c303-4959-4e78-bf76-e954c3cd6067",
   "metadata": {},
   "outputs": [],
   "source": [
    "class ModifiedResNet18(nn.Module):\n",
    "    def __init__(self, num_classes=200): \n",
    "        super(ModifiedResNet18, self).__init__()\n",
    "        # Initial convolution\n",
    "        self.conv1 = nn.Conv2d(3, 32, kernel_size=7, stride=2, padding=3, bias=False)\n",
    "        self.bn1 = nn.BatchNorm2d(32)\n",
    "        self.relu = nn.ReLU(inplace=True)\n",
    "        self.maxpool = nn.MaxPool2d(kernel_size=3, stride=2, padding=1)\n",
    "\n",
    "        # Residual blocks\n",
    "        self.layer1 = self._make_layer(32, 32, blocks=2, stride=1)\n",
    "        self.layer2 = self._make_layer(32, 64, blocks=2, stride=2)\n",
    "        self.layer3 = self._make_layer(64, 128, blocks=2, stride=2)\n",
    "        self.layer4 = self._make_layer(128, 256, blocks=2, stride=2)\n",
    "\n",
    "        # Average pool and fully connected layer\n",
    "        self.avgpool = nn.AdaptiveAvgPool2d((1, 1))\n",
    "        self.fc = nn.Linear(256, num_classes) \n",
    "\n",
    "    def _make_layer(self, in_channels, out_channels, blocks, stride):\n",
    "        layers = []\n",
    "        layers.append(ResidualBlock(in_channels, out_channels, stride))\n",
    "        for _ in range(1, blocks):\n",
    "            layers.append(ResidualBlock(out_channels, out_channels))\n",
    "        return nn.Sequential(*layers)\n",
    "\n",
    "    def forward(self, x):\n",
    "        x = self.conv1(x)\n",
    "        x = self.bn1(x)\n",
    "        x = self.relu(x)\n",
    "        x = self.maxpool(x)\n",
    "\n",
    "        x = self.layer1(x)\n",
    "        x = self.layer2(x)\n",
    "        x = self.layer3(x)\n",
    "        x = self.layer4(x) \n",
    "\n",
    "        x = self.avgpool(x)\n",
    "        x = x.view(x.size(0), -1)\n",
    "        x = self.fc(x)\n",
    "        return x\n",
    "        \n",
    "class ResidualBlock(nn.Module):\n",
    "    expansion = 1\n",
    "\n",
    "    def __init__(self, in_channels, out_channels, stride=1):\n",
    "        super(ResidualBlock, self).__init__()\n",
    "        self.conv1 = nn.Conv2d(in_channels, out_channels, kernel_size=3, stride=stride, padding=1, bias=False)\n",
    "        self.bn1 = nn.BatchNorm2d(out_channels)\n",
    "        self.relu = nn.ReLU(inplace=True)\n",
    "        self.conv2 = nn.Conv2d(out_channels, out_channels, kernel_size=3, padding=1, bias=False)\n",
    "        self.bn2 = nn.BatchNorm2d(out_channels)\n",
    "\n",
    "        self.shortcut = nn.Sequential()\n",
    "        if stride != 1 or in_channels != self.expansion * out_channels:\n",
    "            self.shortcut = nn.Sequential(\n",
    "                nn.Conv2d(in_channels, self.expansion * out_channels, kernel_size=1, stride=stride, bias=False),\n",
    "                nn.BatchNorm2d(self.expansion * out_channels)\n",
    "            )\n",
    "\n",
    "    def forward(self, x):\n",
    "        out = self.conv1(x)\n",
    "        out = self.bn1(out)\n",
    "        out = self.relu(out)\n",
    "        out = self.conv2(out)\n",
    "        out = self.bn2(out)\n",
    "\n",
    "        # Add the shortcut (skip connection) to the output of the layers\n",
    "        shortcut = self.shortcut(x)\n",
    "\n",
    "        out += shortcut\n",
    "        out = self.relu(out)\n",
    "        return out\n",
    "\n",
    "\n",
    "net = ModifiedResNet18()\n",
    "net = net.to(torch.device(\"cuda:0\" if torch.cuda.is_available() else \"cpu\"))\n"
   ]
  },
  {
   "cell_type": "code",
   "execution_count": 7,
   "id": "2ae98e65-fd67-4fb0-b1a6-e19ffa76dd8e",
   "metadata": {},
   "outputs": [
    {
     "name": "stdout",
     "output_type": "stream",
     "text": [
      "----------------------------------------------------------------\n",
      "        Layer (type)               Output Shape         Param #\n",
      "================================================================\n",
      "            Conv2d-1         [-1, 32, 112, 112]           4,704\n",
      "       BatchNorm2d-2         [-1, 32, 112, 112]              64\n",
      "              ReLU-3         [-1, 32, 112, 112]               0\n",
      "         MaxPool2d-4           [-1, 32, 56, 56]               0\n",
      "            Conv2d-5           [-1, 32, 56, 56]           9,216\n",
      "       BatchNorm2d-6           [-1, 32, 56, 56]              64\n",
      "              ReLU-7           [-1, 32, 56, 56]               0\n",
      "            Conv2d-8           [-1, 32, 56, 56]           9,216\n",
      "       BatchNorm2d-9           [-1, 32, 56, 56]              64\n",
      "             ReLU-10           [-1, 32, 56, 56]               0\n",
      "    ResidualBlock-11           [-1, 32, 56, 56]               0\n",
      "           Conv2d-12           [-1, 32, 56, 56]           9,216\n",
      "      BatchNorm2d-13           [-1, 32, 56, 56]              64\n",
      "             ReLU-14           [-1, 32, 56, 56]               0\n",
      "           Conv2d-15           [-1, 32, 56, 56]           9,216\n",
      "      BatchNorm2d-16           [-1, 32, 56, 56]              64\n",
      "             ReLU-17           [-1, 32, 56, 56]               0\n",
      "    ResidualBlock-18           [-1, 32, 56, 56]               0\n",
      "           Conv2d-19           [-1, 64, 28, 28]          18,432\n",
      "      BatchNorm2d-20           [-1, 64, 28, 28]             128\n",
      "             ReLU-21           [-1, 64, 28, 28]               0\n",
      "           Conv2d-22           [-1, 64, 28, 28]          36,864\n",
      "      BatchNorm2d-23           [-1, 64, 28, 28]             128\n",
      "           Conv2d-24           [-1, 64, 28, 28]           2,048\n",
      "      BatchNorm2d-25           [-1, 64, 28, 28]             128\n",
      "             ReLU-26           [-1, 64, 28, 28]               0\n",
      "    ResidualBlock-27           [-1, 64, 28, 28]               0\n",
      "           Conv2d-28           [-1, 64, 28, 28]          36,864\n",
      "      BatchNorm2d-29           [-1, 64, 28, 28]             128\n",
      "             ReLU-30           [-1, 64, 28, 28]               0\n",
      "           Conv2d-31           [-1, 64, 28, 28]          36,864\n",
      "      BatchNorm2d-32           [-1, 64, 28, 28]             128\n",
      "             ReLU-33           [-1, 64, 28, 28]               0\n",
      "    ResidualBlock-34           [-1, 64, 28, 28]               0\n",
      "           Conv2d-35          [-1, 128, 14, 14]          73,728\n",
      "      BatchNorm2d-36          [-1, 128, 14, 14]             256\n",
      "             ReLU-37          [-1, 128, 14, 14]               0\n",
      "           Conv2d-38          [-1, 128, 14, 14]         147,456\n",
      "      BatchNorm2d-39          [-1, 128, 14, 14]             256\n",
      "           Conv2d-40          [-1, 128, 14, 14]           8,192\n",
      "      BatchNorm2d-41          [-1, 128, 14, 14]             256\n",
      "             ReLU-42          [-1, 128, 14, 14]               0\n",
      "    ResidualBlock-43          [-1, 128, 14, 14]               0\n",
      "           Conv2d-44          [-1, 128, 14, 14]         147,456\n",
      "      BatchNorm2d-45          [-1, 128, 14, 14]             256\n",
      "             ReLU-46          [-1, 128, 14, 14]               0\n",
      "           Conv2d-47          [-1, 128, 14, 14]         147,456\n",
      "      BatchNorm2d-48          [-1, 128, 14, 14]             256\n",
      "             ReLU-49          [-1, 128, 14, 14]               0\n",
      "    ResidualBlock-50          [-1, 128, 14, 14]               0\n",
      "           Conv2d-51            [-1, 256, 7, 7]         294,912\n",
      "      BatchNorm2d-52            [-1, 256, 7, 7]             512\n",
      "             ReLU-53            [-1, 256, 7, 7]               0\n",
      "           Conv2d-54            [-1, 256, 7, 7]         589,824\n",
      "      BatchNorm2d-55            [-1, 256, 7, 7]             512\n",
      "           Conv2d-56            [-1, 256, 7, 7]          32,768\n",
      "      BatchNorm2d-57            [-1, 256, 7, 7]             512\n",
      "             ReLU-58            [-1, 256, 7, 7]               0\n",
      "    ResidualBlock-59            [-1, 256, 7, 7]               0\n",
      "           Conv2d-60            [-1, 256, 7, 7]         589,824\n",
      "      BatchNorm2d-61            [-1, 256, 7, 7]             512\n",
      "             ReLU-62            [-1, 256, 7, 7]               0\n",
      "           Conv2d-63            [-1, 256, 7, 7]         589,824\n",
      "      BatchNorm2d-64            [-1, 256, 7, 7]             512\n",
      "             ReLU-65            [-1, 256, 7, 7]               0\n",
      "    ResidualBlock-66            [-1, 256, 7, 7]               0\n",
      "AdaptiveAvgPool2d-67            [-1, 256, 1, 1]               0\n",
      "           Linear-68                  [-1, 200]          51,400\n",
      "================================================================\n",
      "Total params: 2,850,280\n",
      "Trainable params: 2,850,280\n",
      "Non-trainable params: 0\n",
      "----------------------------------------------------------------\n",
      "Input size (MB): 0.57\n",
      "Forward/backward pass size (MB): 31.39\n",
      "Params size (MB): 10.87\n",
      "Estimated Total Size (MB): 42.84\n",
      "----------------------------------------------------------------\n"
     ]
    }
   ],
   "source": [
    "from torchsummary import summary\n",
    "\n",
    "# Create a dummy input with the same shape as the expected input\n",
    "dummy_input = torch.randn(1, 3, 224, 224)  # Assuming input size is 224x224\n",
    "\n",
    "# Use torchsummary to summarize the model\n",
    "summary(net, input_size=dummy_input.shape[1:])"
   ]
  },
  {
   "cell_type": "code",
   "execution_count": 8,
   "id": "b4dee7a8-9f41-4377-b8b8-4b01c000e460",
   "metadata": {},
   "outputs": [],
   "source": [
    "criterion = nn.CrossEntropyLoss()\n",
    "optimizer = optim.Adam(net.parameters(), lr=0.001)\n"
   ]
  },
  {
   "cell_type": "code",
   "execution_count": 9,
   "id": "cb4e3f94-edec-45da-9b47-f1c51df3343f",
   "metadata": {},
   "outputs": [],
   "source": [
    "train_losses = []\n",
    "train_accuracies = []\n",
    "test_losses = []\n",
    "test_accuracies = []"
   ]
  },
  {
   "cell_type": "code",
   "execution_count": 10,
   "id": "e2080d96-ca70-4154-9c18-808b9c6f40dc",
   "metadata": {},
   "outputs": [],
   "source": [
    "# sys.stdout = sys.__stdout__\n",
    "# log_file.close()"
   ]
  },
  {
   "cell_type": "code",
   "execution_count": 11,
   "id": "9d5bb21a-40cf-4853-962e-922b11309c16",
   "metadata": {},
   "outputs": [
    {
     "name": "stdout",
     "output_type": "stream",
     "text": [
      "Epoch 1, Training Loss: 0.16568245897195996, Training Accuracy: 0.8908371040723982\n",
      "Epoch 2, Training Loss: 0.15619492092553308, Training Accuracy: 2.0786199095022626\n",
      "Epoch 3, Training Loss: 0.14885187526633836, Training Accuracy: 3.0118778280542986\n",
      "Epoch 4, Training Loss: 0.1415379787057773, Training Accuracy: 4.3127828054298645\n",
      "Epoch 5, Training Loss: 0.1339182592422714, Training Accuracy: 5.896493212669683\n",
      "Epoch 6, Training Loss: 0.12621298476177104, Training Accuracy: 8.79524886877828\n",
      "Epoch 7, Training Loss: 0.1168067765114534, Training Accuracy: 12.471719457013574\n",
      "Epoch 8, Training Loss: 0.10929018815313529, Training Accuracy: 16.43099547511312\n",
      "Epoch 9, Training Loss: 0.10088828418454433, Training Accuracy: 20.9841628959276\n",
      "Epoch 10, Training Loss: 0.09257651808170173, Training Accuracy: 24.90101809954751\n",
      "Epoch 11, Training Loss: 0.08631974596917899, Training Accuracy: 29.920814479638008\n",
      "Epoch 12, Training Loss: 0.07737295437452481, Training Accuracy: 35.39309954751131\n",
      "Epoch 13, Training Loss: 0.06975575612343814, Training Accuracy: 40.540158371040725\n",
      "Epoch 14, Training Loss: 0.06229199597199039, Training Accuracy: 47.171945701357465\n",
      "Epoch 15, Training Loss: 0.054177477770396484, Training Accuracy: 52.37556561085973\n",
      "Epoch 16, Training Loss: 0.04498270105958255, Training Accuracy: 60.39309954751131\n",
      "Epoch 17, Training Loss: 0.03572620590516615, Training Accuracy: 68.35407239819004\n",
      "Epoch 18, Training Loss: 0.027278319380469453, Training Accuracy: 76.96549773755656\n",
      "Epoch 19, Training Loss: 0.018614862843235425, Training Accuracy: 85.98699095022624\n",
      "Epoch 20, Training Loss: 0.013246690892357362, Training Accuracy: 90.2997737556561\n",
      "Epoch 21, Training Loss: 0.008470857512770533, Training Accuracy: 94.61255656108597\n",
      "Epoch 22, Training Loss: 0.0051170337799835396, Training Accuracy: 97.69513574660634\n",
      "Epoch 23, Training Loss: 0.0027559062232141176, Training Accuracy: 99.27884615384616\n",
      "Epoch 24, Training Loss: 0.0016490024621429857, Training Accuracy: 99.6747737556561\n",
      "Epoch 25, Training Loss: 0.0012457637683640137, Training Accuracy: 99.77375565610859\n",
      "Epoch 26, Training Loss: 0.0009343491161844748, Training Accuracy: 99.90101809954751\n",
      "Epoch 27, Training Loss: 0.0008055211423592836, Training Accuracy: 99.84445701357465\n",
      "Epoch 28, Training Loss: 0.010445750839702735, Training Accuracy: 90.69570135746606\n",
      "Epoch 29, Training Loss: 0.01878154013154194, Training Accuracy: 81.53280542986425\n",
      "Epoch 30, Training Loss: 0.004308475319473115, Training Accuracy: 96.74773755656109\n",
      "Finished Training\n"
     ]
    }
   ],
   "source": [
    "num_epochs = 30\n",
    "train_losses = []  \n",
    "train_accuracies = [] \n",
    "for epoch in range(num_epochs):\n",
    "    running_loss = 0.0\n",
    "    correct_train = 0\n",
    "    total_train = 0\n",
    "     \n",
    "    for images, labels in train_loader:\n",
    "        images, labels = images.to(torch.device(\"cuda:0\" if torch.cuda.is_available() else \"cpu\")), labels.to(torch.device(\"cuda:0\" if torch.cuda.is_available() else \"cpu\"))\n",
    "        \n",
    "        optimizer.zero_grad()\n",
    "\n",
    "        outputs = net(images)\n",
    "        loss = criterion(outputs, labels)\n",
    "        loss.backward()\n",
    "        optimizer.step()\n",
    "\n",
    "        running_loss += loss.item()\n",
    "        \n",
    "        # Calculate training accuracy\n",
    "        _, predicted = torch.max(outputs.data, 1)\n",
    "        total_train += labels.size(0)\n",
    "        correct_train += (predicted == labels).sum().item()\n",
    "    \n",
    "    \n",
    "    train_losses.append(running_loss / total_train)\n",
    "    train_accuracies.append(100 * correct_train / total_train)\n",
    "    \n",
    "    print(f\"Epoch {epoch+1}, Training Loss: {train_losses[-1]}, Training Accuracy: {train_accuracies[-1]}\")\n",
    "\n",
    "print('Finished Training')\n"
   ]
  },
  {
   "cell_type": "code",
   "execution_count": 12,
   "id": "4f3239c0-be2d-4263-a51f-24ba952e0332",
   "metadata": {},
   "outputs": [],
   "source": [
    "import matplotlib.pyplot as plt"
   ]
  },
  {
   "cell_type": "code",
   "execution_count": 17,
   "id": "9d4a131f-6617-449c-91e3-cf93634fa7ea",
   "metadata": {},
   "outputs": [
    {
     "data": {
      "image/png": "[encoded data removed]",
      "text/plain": [
       "<Figure size 1000x500 with 1 Axes>"
      ]
     },
     "metadata": {},
     "output_type": "display_data"
    },
    {
     "data": {
      "image/png": "[encoded data removed]",
      "text/plain": [
       "<Figure size 1000x500 with 1 Axes>"
      ]
     },
     "metadata": {},
     "output_type": "display_data"
    }
   ],
   "source": [
    "# Plotting training and validation loss\n",
    "plt.figure(figsize=(10,5))\n",
    "plt.title(\"Training Loss\")\n",
    "plt.plot(train_losses,label=\"Train\")\n",
    "plt.xlabel(\"Epochs\")\n",
    "plt.ylabel(\"Loss\")\n",
    "plt.legend()\n",
    "plt.show()\n",
    "\n",
    "# Plotting training and validation accuracy\n",
    "plt.figure(figsize=(10,5))\n",
    "plt.title(\"Training Accuracy\")\n",
    "plt.plot(train_accuracies,label=\"Train\")\n",
    "plt.xlabel(\"Epochs\")\n",
    "plt.ylabel(\"Accuracy\")\n",
    "plt.legend()\n",
    "plt.show()"
   ]
  },
  {
   "cell_type": "code",
   "execution_count": 14,
   "id": "64eee7d4-b259-4060-810c-815bea6c5269",
   "metadata": {},
   "outputs": [
    {
     "name": "stdout",
     "output_type": "stream",
     "text": [
      "Accuracy of the network on the test images: 26.95080576759966%\n"
     ]
    }
   ],
   "source": [
    "correct = 0\n",
    "total = 0\n",
    "with torch.no_grad():\n",
    "    for data in test_loader:\n",
    "        images, labels = data\n",
    "        images, labels = images.to(torch.device(\"cuda:0\" if torch.cuda.is_available() else \"cpu\")), labels.to(torch.device(\"cuda:0\" if torch.cuda.is_available() else \"cpu\"))\n",
    "        outputs = net(images)\n",
    "        _, predicted = torch.max(outputs.data, 1)\n",
    "        total += labels.size(0)\n",
    "        correct += (predicted == labels).sum().item()\n",
    "\n",
    "print(f'Accuracy of the network on the test images: {100 * correct / total}%')\n"
   ]
  },
  {
   "cell_type": "code",
   "execution_count": 15,
   "id": "f902357e-ae4b-4c84-8c7f-76655065bfbc",
   "metadata": {},
   "outputs": [
    {
     "name": "stdout",
     "output_type": "stream",
     "text": [
      "Accuracy of the network on the train images: 99.43438914027149%\n"
     ]
    }
   ],
   "source": [
    "correct = 0\n",
    "total = 0\n",
    "with torch.no_grad():\n",
    "    for data in train_loader:\n",
    "        images, labels = data\n",
    "        images, labels = images.to(torch.device(\"cuda:0\" if torch.cuda.is_available() else \"cpu\")), labels.to(torch.device(\"cuda:0\" if torch.cuda.is_available() else \"cpu\"))\n",
    "        outputs = net(images)\n",
    "        _, predicted = torch.max(outputs.data, 1)\n",
    "        total += labels.size(0)\n",
    "        correct += (predicted == labels).sum().item()\n",
    "\n",
    "print(f'Accuracy of the network on the train images: {100 * correct / total}%')"
   ]
  },
  {
   "cell_type": "code",
   "execution_count": 16,
   "id": "ca9f6f29-b828-4a42-ba96-73b6365d883e",
   "metadata": {},
   "outputs": [
    {
     "name": "stdout",
     "output_type": "stream",
     "text": [
      "Got 7066 correct images out of 7072 total images (99.92% accuracy)\n",
      "Got 1351 correct images out of 4716 total images (28.65% accuracy)\n"
     ]
    }
   ],
   "source": [
    "\n",
    "def check_accuracy(loader, model):\n",
    "    num_right = 0\n",
    "    num_samp = 0\n",
    "    model.eval()  \n",
    "\n",
    "    with torch.no_grad():\n",
    "        for inputs, labels in loader:\n",
    "            inputs = inputs.to(device)  \n",
    "            labels = labels.to(device)\n",
    "\n",
    "            scores = model(inputs)\n",
    "            _, predictions = scores.max(1)\n",
    "            num_right += (predictions == labels).sum().item()\n",
    "            num_samp += labels.size(0)\n",
    "\n",
    "        accuracy = 100.0 * num_right / num_samp\n",
    "        print(f\"Got {num_right} correct images out of {num_samp} total images ({accuracy:.2f}% accuracy)\")\n",
    "\n",
    "    model.train()  # Set model back to training mode\n",
    "\n",
    "\n",
    "check_accuracy(train_loader, net)\n",
    "check_accuracy(test_loader, net)\n"
   ]
  }
 ],
 "metadata": {
  "kernelspec": {
   "display_name": "Python 3 (ipykernel)",
   "language": "python",
   "name": "python3"
  },
  "language_info": {
   "codemirror_mode": {
    "name": "ipython",
    "version": 3
   },
   "file_extension": ".py",
   "mimetype": "text/x-python",
   "name": "python",
   "nbconvert_exporter": "python",
   "pygments_lexer": "ipython3",
   "version": "3.12.2"
  }
 },
 "nbformat": 4,
 "nbformat_minor": 5
}
